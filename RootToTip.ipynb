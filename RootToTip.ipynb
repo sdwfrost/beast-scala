{
 "cells": [
  {
   "cell_type": "markdown",
   "metadata": {},
   "source": [
    "# BEAST in a notebook"
   ]
  },
  {
   "cell_type": "markdown",
   "metadata": {},
   "source": [
    "BEAST (mostly [BEAST1](http://beast.bio.ed.ac.uk/), but increasingly [BEAST2](http://www.beast2.org)) is widely used to fit complex evolutionary models to sequence data, often from viruses. The codebase is large and mature, but this can also be daunting for anyone trying to learn the API to develop their own code on top of BEAST. Wouldn't it be nice if one could play with the code interactively, as R and Python users are used to doing? Thanks to Scala, a JVM based language that includes a read-eval-print loop (REPL), and Jupyter, the rebranded IPython notebook, we can do just that."
   ]
  },
  {
   "cell_type": "markdown",
   "metadata": {},
   "source": [
    "## Installation"
   ]
  },
  {
   "cell_type": "markdown",
   "metadata": {},
   "source": [
    "### Installing Scala"
   ]
  },
  {
   "cell_type": "markdown",
   "metadata": {},
   "source": [
    "First of all, one needs to install Scala, which can be downloaded from here.\n",
    "\n",
    "On OSX, you can do this using Homebrew.\n",
    "\n",
    "```\n",
    "brew update\n",
    "brew install scala\n",
    "brew install sbt\n",
    "```"
   ]
  },
  {
   "cell_type": "markdown",
   "metadata": {},
   "source": [
    "### Installing IPython/Jupyter"
   ]
  },
  {
   "cell_type": "markdown",
   "metadata": {},
   "source": [
    "For IPython/Jupyter, you'll need an up-to-date Python distribution plus a bunch of dependencies (notably ZeroMQ). Detailed instructions can be found on the website, but assuming you have the dependencies and tho Python package manager ```pip```, you can install as follows.\n",
    "\n",
    "```\n",
    "sudo pip install ipython[all] --upgrade\n",
    "```\n",
    "\n",
    "You may also be using ```pip3``` for the Python3 version of pip."
   ]
  },
  {
   "cell_type": "markdown",
   "metadata": {},
   "source": [
    "### Installing jupyter-scala"
   ]
  },
  {
   "cell_type": "markdown",
   "metadata": {},
   "source": [
    "To use Jupyter with Scala, one needs to install a kernel for running Scala. One of these is IScala, but I'll use the more lightweight ```jupyter-scala``` kernel. To build from source, do the following - it'll take some time.\n",
    "\n",
    "```\n",
    "git clone https://github.com/alexarchambault/jupyter-scala.git\n",
    "cd jupyter-scala\n",
    "sbt cli/packArchive\n",
    "cd cli/target\n",
    "tar -zxvf jupyter-scala*.tar.gz\n",
    "cd jupyter-scala*/bin\n",
    "chmod +x ./jupyter-scala\n",
    "./jupyter-scala\n",
    "```"
   ]
  },
  {
   "cell_type": "markdown",
   "metadata": {},
   "source": [
    "## Running"
   ]
  },
  {
   "cell_type": "markdown",
   "metadata": {},
   "source": [
    "If all has installed correctly, change to the working directory, then launch Jupyter.\n",
    "\n",
    "```\n",
    "jupyter notebook\n",
    "```\n",
    "\n",
    "You should then see (currently) scala211 as one of the kernels you can use in a new notebook."
   ]
  },
  {
   "cell_type": "markdown",
   "metadata": {},
   "source": [
    "## An example: root-to-tip regression"
   ]
  },
  {
   "cell_type": "markdown",
   "metadata": {},
   "source": [
    "As an example, I'll show how root-to-tip regression can be used to root a phylogenetic tree based on the sampling time of the tips. This is implemented within Andrew Rambaut's [Path-O-Gen](http://tree.bio.ed.ac.uk/software/pathogen/), and in the source code for BEAST there is also a [file](https://github.com/beast-dev/beast-mcmc/blob/master/src/dr/app/pathogen/RootToTip.java), which implements root-to-tip regression for a batch of trees. However, it assumes a single set of taxa, and outputs a NEXUS file. In the following, I'll show how a Scala version of this code can be used to analyse multiple (possibly different) trees, and output a file containing Newick trees.\n",
    "\n",
    "I first load the BEAST, BEAUTI and Path-O-Gen jars locally. In jupyter-scala, I use ```load.jar``` for this. If I was running as a script, I would call Scala using the ```-cp``` flag to set the classpath, or within the normal Scala REPL, use ```:cp``` instead."
   ]
  },
  {
   "cell_type": "code",
   "execution_count": 1,
   "metadata": {
    "collapsed": false
   },
   "outputs": [
    {
     "data": {
      "text/plain": []
     },
     "metadata": {},
     "output_type": "display_data"
    }
   ],
   "source": [
    "load.jar(\"lib/beast.jar\")\n",
    "load.jar(\"lib/beauti.jar\")\n",
    "load.jar(\"lib/pathogen.jar\")"
   ]
  },
  {
   "cell_type": "markdown",
   "metadata": {},
   "source": [
    "Next, I import the classes needed."
   ]
  },
  {
   "cell_type": "code",
   "execution_count": 2,
   "metadata": {
    "collapsed": false,
    "scrolled": false
   },
   "outputs": [
    {
     "data": {
      "text/plain": [
       "\u001b[32mimport \u001b[36mdr.app.beauti.options.DateGuesser\u001b[0m\n",
       "\u001b[32mimport \u001b[36mdr.app.util.Arguments\u001b[0m\n",
       "\u001b[32mimport \u001b[36mdr.evolution.io.Importer\u001b[0m\n",
       "\u001b[32mimport \u001b[36mdr.evolution.io.NewickImporter\u001b[0m\n",
       "\u001b[32mimport \u001b[36mdr.evolution.io.TreeImporter\u001b[0m\n",
       "\u001b[32mimport \u001b[36mdr.evolution.tree.Tree\u001b[0m\n",
       "\u001b[32mimport \u001b[36mdr.evolution.tree.Tree.Utils\u001b[0m\n",
       "\u001b[32mimport \u001b[36mdr.evolution.util.TaxonList\u001b[0m\n",
       "\u001b[32mimport \u001b[36mdr.stats.Regression\u001b[0m\n",
       "\u001b[32mimport \u001b[36mdr.stats.Variate\u001b[0m\n",
       "\u001b[32mimport \u001b[36mdr.util.Version\u001b[0m\n",
       "\u001b[32mimport \u001b[36mdr.app.pathogen.TemporalRooting\u001b[0m\n",
       "\u001b[32mimport \u001b[36mjava.io.FileReader\u001b[0m\n",
       "\u001b[32mimport \u001b[36mjava.io.IOException\u001b[0m\n",
       "\u001b[32mimport \u001b[36mjava.io.PrintStream\u001b[0m\n",
       "\u001b[32mimport \u001b[36mjava.io.PrintWriter\u001b[0m\n",
       "\u001b[32mimport \u001b[36mjava.util.ArrayList\u001b[0m\n",
       "\u001b[32mimport \u001b[36mjava.util.List\u001b[0m"
      ]
     },
     "metadata": {},
     "output_type": "display_data"
    }
   ],
   "source": [
    "import dr.app.beauti.options.DateGuesser\n",
    "import dr.app.util.Arguments\n",
    "import dr.evolution.io.Importer\n",
    "import dr.evolution.io.NewickImporter\n",
    "import dr.evolution.io.TreeImporter\n",
    "import dr.evolution.tree.Tree\n",
    "import dr.evolution.tree.Tree.Utils\n",
    "import dr.evolution.util.TaxonList\n",
    "import dr.stats.Regression\n",
    "import dr.stats.Variate\n",
    "import dr.util.Version\n",
    "import dr.app.pathogen.TemporalRooting\n",
    "import java.io.FileReader\n",
    "import java.io.IOException\n",
    "import java.io.PrintStream\n",
    "import java.io.PrintWriter\n",
    "import java.util.ArrayList\n",
    "import java.util.List"
   ]
  },
  {
   "cell_type": "markdown",
   "metadata": {},
   "source": [
    "I set the input and output filenames; the input tree has to be rooted. I'm using some simulated data from the [PANGEA-HIV methods comparison exercise](http://www.pangea-hiv.org)."
   ]
  },
  {
   "cell_type": "code",
   "execution_count": 3,
   "metadata": {
    "collapsed": false
   },
   "outputs": [
    {
     "data": {
      "text/plain": [
       "\u001b[36minputFileName\u001b[0m: \u001b[32mString\u001b[0m = \u001b[32m\"village.tre\"\u001b[0m\n",
       "\u001b[36moutputRegressionFileName\u001b[0m: \u001b[32mString\u001b[0m = \u001b[32m\"village_regression.txt\"\u001b[0m\n",
       "\u001b[36moutputRTTTreeFileName\u001b[0m: \u001b[32mString\u001b[0m = \u001b[32m\"village_rtt.tre\"\u001b[0m\n",
       "\u001b[36mdateOrder\u001b[0m: \u001b[32mString\u001b[0m = \u001b[32m\"LAST\"\u001b[0m"
      ]
     },
     "metadata": {},
     "output_type": "display_data"
    }
   ],
   "source": [
    "var inputFileName: String = \"village.tre\"\n",
    "var outputRegressionFileName: String = \"village_regression.txt\"\n",
    "var outputRTTTreeFileName: String = \"village_rtt.tre\"\n",
    "var dateOrder = \"LAST\""
   ]
  },
  {
   "cell_type": "markdown",
   "metadata": {},
   "source": [
    "I initialize some variables, as well as setting up file readers, some containers for the trees and root-to-tip regressions, and a class to guess dates based on the taxon names."
   ]
  },
  {
   "cell_type": "code",
   "execution_count": 4,
   "metadata": {
    "collapsed": false
   },
   "outputs": [
    {
     "data": {
      "text/plain": [
       "\u001b[36mfirstTree\u001b[0m: \u001b[32mBoolean\u001b[0m = true\n",
       "\u001b[36mtotalTrees\u001b[0m: \u001b[32mInt\u001b[0m = \u001b[32m0\u001b[0m\n",
       "\u001b[36mfileReader\u001b[0m: \u001b[32mFileReader\u001b[0m = java.io.FileReader@33c9bd8d\n",
       "\u001b[36mimporter\u001b[0m: \u001b[32mNewickImporter\u001b[0m = dr.evolution.io.NewickImporter@3c346c8b\n",
       "\u001b[36mregressions\u001b[0m: \u001b[32mArrayList\u001b[0m[\u001b[32mRegression\u001b[0m] = []\n",
       "\u001b[36mtrees\u001b[0m: \u001b[32mArrayList\u001b[0m[\u001b[32mTree\u001b[0m] = []\n",
       "\u001b[36mdg\u001b[0m: \u001b[32mDateGuesser\u001b[0m = dr.app.beauti.options.DateGuesser@754f90cb"
      ]
     },
     "metadata": {},
     "output_type": "display_data"
    }
   ],
   "source": [
    "var firstTree = true\n",
    "var totalTrees = 0\n",
    "val fileReader = new FileReader(inputFileName)\n",
    "val importer = new NewickImporter(fileReader)\n",
    "val regressions = new ArrayList[Regression]()\n",
    "val trees = new ArrayList[Tree]()\n",
    "val dg = new DateGuesser()"
   ]
  },
  {
   "cell_type": "markdown",
   "metadata": {},
   "source": [
    "The following code extracts the sampling times from the taxon names in the tree."
   ]
  },
  {
   "cell_type": "code",
   "execution_count": 5,
   "metadata": {
    "collapsed": false
   },
   "outputs": [
    {
     "data": {
      "text/plain": []
     },
     "metadata": {},
     "output_type": "display_data"
    }
   ],
   "source": [
    "dg.fromLast = false\n",
    "  if (dateOrder == \"FIRST\") {\n",
    "    dg.order = 0\n",
    "  } else if (dateOrder == \"LAST\") {\n",
    "    dg.order = 0\n",
    "    dg.fromLast = true\n",
    "  } else {\n",
    "    dg.order = java.lang.Integer.parseInt(dateOrder) - 1\n",
    "    if (dg.order < 0 || dg.order > 100) {\n",
    "      System.err.println(\"Error Parsing order of date field: \" + dateOrder)\n",
    "    }\n",
    "}"
   ]
  },
  {
   "cell_type": "markdown",
   "metadata": {},
   "source": [
    "The ```TemporalRooting.findRoot``` method finds the root of the tree that minimises (in this case) the correlation between the root-to-tip distance and the sequence sampling times. The resulting rerooted trees are stored in an ArrayList. "
   ]
  },
  {
   "cell_type": "code",
   "execution_count": 6,
   "metadata": {
    "collapsed": false
   },
   "outputs": [
    {
     "data": {
      "text/plain": [
       "\u001b[36mtaxa\u001b[0m: \u001b[32mTaxonList\u001b[0m = ((((HOUSE5440-5424-MALE_SAMPLED_23.9398544887081:0.030304288760000006,HOUSE213-8853-MALE_SAMPLED_30.4440753691847:0.048564451310000006):0.001566584422999992,(((HOUSE4425-11265-MALE_SAMPLED_40.7310725144362:0.0367453096,HOUSE930-9401-MALE_SAMPLED_40.9680201422226:0.03202150755000001):0.002228724244999994,HOUSE3476-7434-MALE_SAMPLED_41.240714742628:0.027473325450000002):0.036025480959999995,((HOUSE1066-9744-FEMALE_SAMPLED_40.5949480801292:0.034257315159999996,(HOUSE5013-4985-FEMALE_SAMPLED_40.0179873942715:0.030488125040000008,HOUSE269-13719-MALE_SAMPLED_44.8127190966625:0.041655773509999994):0.0018901675680000063):0.03418911803000001,HOUSE4957-11691-FEMALE_SAMPLED_41.1275386752759:0.06180793280000001):0.0013417752599999971):0.001216050718000003):0.026975177350000004,(((((((HOUSE436-423-FEMALE_SAMPLED_20.5177062214352:0.010084563010000006,(HOUSE2317-10437-MALE_SAMPLED_42.9017288412433:0.012632914669999995,HOUSE1993-1981-FEMALE_SAMPLED_40.4272734640254:0.010659886300000004):0.06635069577):0.008366545813999995,((HOUSE5552-8570-MALE_SAMPLED_40.1816582144663:0.015123975250000005,HOUSE3651-3595-FEMALE_SAMPLED_41.9283354467792:0.025518900090000005):0.030767162969999998,((HOUSE1699-13906-FEMALE_SAMPLED_43.6345837940462:0.05880356948,HOUSE946-11446-MALE_SAMPLED_43.6794608389027:0.050249877129999995):6.460262866000016E-4,HOUSE1528-9191-FEMALE_SAMPLED_31.991910797311:0.025338908529999996):0.005331173425000002):0.012397956749999994):2.8890048349994313E-6,(HOUSE6019-14747-FEMALE_SAMPLED_44\u001b[33m...\u001b[0m\n",
       "\u001b[36mtemporalRooting\u001b[0m: \u001b[32mTemporalRooting\u001b[0m = dr.app.pathogen.TemporalRooting@4298f7e7"
      ]
     },
     "metadata": {},
     "output_type": "display_data"
    }
   ],
   "source": [
    "var taxa: TaxonList = null\n",
    "var temporalRooting: TemporalRooting = null\n",
    "try {\n",
    "  while (importer.hasTree()) {\n",
    "    val tree = importer.importNextTree()\n",
    "    taxa = tree\n",
    "    dg.guessDates(taxa)\n",
    "    temporalRooting = new TemporalRooting(taxa)\n",
    "    var rootedTree = tree\n",
    "    rootedTree = temporalRooting.findRoot(tree, TemporalRooting.RootingFunction.CORRELATION)\n",
    "    regressions.add(temporalRooting.getRootToTipRegression(rootedTree))\n",
    "    trees.add(rootedTree)\n",
    "    totalTrees += 1\n",
    "  }\n",
    "} catch {\n",
    "  case e: Importer.ImportException => {\n",
    "    System.err.println(\"Error Parsing Input Tree: \" + e.getMessage)\n",
    "  }\n",
    "}"
   ]
  },
  {
   "cell_type": "markdown",
   "metadata": {},
   "source": [
    "Now that the results have been generated, I save them to a text file."
   ]
  },
  {
   "cell_type": "code",
   "execution_count": 7,
   "metadata": {
    "collapsed": false
   },
   "outputs": [
    {
     "data": {
      "text/plain": [
       "\u001b[36mprintWriter\u001b[0m: \u001b[32mPrintWriter\u001b[0m = java.io.PrintWriter@411d1f7a"
      ]
     },
     "metadata": {},
     "output_type": "display_data"
    }
   ],
   "source": [
    "var printWriter: PrintWriter = null  \n",
    "printWriter = new PrintWriter(outputRegressionFileName)\n",
    "printWriter.println(\"tree\\trttslope\\tx-intercept\\ty-intercept\\tcorrelation\")\n",
    "for (i <- 0 until totalTrees) {\n",
    "  val r = regressions.get(i)\n",
    "  printWriter.print(i)\n",
    "  printWriter.print(\"\\t\" + r.getGradient)\n",
    "  printWriter.print(\"\\t\" + r.getXIntercept)\n",
    "  printWriter.print(\"\\t\" + r.getYIntercept)\n",
    "  printWriter.println(\"\\t\" + r.getCorrelationCoefficient)\n",
    "}\n",
    "printWriter.close()"
   ]
  },
  {
   "cell_type": "markdown",
   "metadata": {},
   "source": [
    "Although there is code to export trees in Nexus format (which is what was done in ```RootToTip.java```), there isn't any convenience function to export Newick trees (aside from some code from JEBL). However, ```Tree``` does provide some utilities, amongst them one which generates a Newick string, that can be saved to file."
   ]
  },
  {
   "cell_type": "code",
   "execution_count": 8,
   "metadata": {
    "collapsed": false
   },
   "outputs": [
    {
     "data": {
      "text/plain": [
       "\u001b[36mrttPrintStream\u001b[0m: \u001b[32mPrintStream\u001b[0m = java.io.PrintStream@40e2f54d"
      ]
     },
     "metadata": {},
     "output_type": "display_data"
    }
   ],
   "source": [
    "var rttPrintStream: PrintStream = null\n",
    "rttPrintStream = new PrintStream(outputRTTTreeFileName)\n",
    "for(i <- 0 until totalTrees) {\n",
    "  rttPrintStream.println(Utils.newick(trees.get(i)))\n",
    "}\n",
    "rttPrintStream.close()"
   ]
  },
  {
   "cell_type": "markdown",
   "metadata": {},
   "source": [
    "So, that's it for now. Whenever I get a chance, I'll write a bit about calling R from Scala using [rscala](http://dahl.byu.edu/software/rscala/), as well as writing plugins for BEAST2 using Scala."
   ]
  }
 ],
 "metadata": {
  "kernelspec": {
   "display_name": "Scala 2.11",
   "language": "scala211",
   "name": "scala211"
  },
  "language_info": {
   "codemirror_mode": "text/x-scala",
   "file_extension": "scala",
   "mimetype": "text/x-scala",
   "name": "scala211",
   "pygments_lexer": "scala",
   "version": "2.11.6"
  }
 },
 "nbformat": 4,
 "nbformat_minor": 0
}
